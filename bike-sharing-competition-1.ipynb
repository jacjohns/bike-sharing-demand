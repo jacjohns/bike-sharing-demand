{
 "cells": [
  {
   "cell_type": "code",
   "execution_count": 1,
   "id": "c0ff63de",
   "metadata": {
    "_cell_guid": "b1076dfc-b9ad-4769-8c92-a6c4dae69d19",
    "_uuid": "8f2839f25d086af736a60e9eeb907d3b93b6e0e5",
    "execution": {
     "iopub.execute_input": "2023-07-28T18:24:53.152345Z",
     "iopub.status.busy": "2023-07-28T18:24:53.151942Z",
     "iopub.status.idle": "2023-07-28T18:24:55.152805Z",
     "shell.execute_reply": "2023-07-28T18:24:55.151504Z"
    },
    "papermill": {
     "duration": 2.00974,
     "end_time": "2023-07-28T18:24:55.155856",
     "exception": false,
     "start_time": "2023-07-28T18:24:53.146116",
     "status": "completed"
    },
    "tags": []
   },
   "outputs": [
    {
     "name": "stderr",
     "output_type": "stream",
     "text": [
      "/opt/conda/lib/python3.10/site-packages/scipy/__init__.py:146: UserWarning: A NumPy version >=1.16.5 and <1.23.0 is required for this version of SciPy (detected version 1.23.5\n",
      "  warnings.warn(f\"A NumPy version >={np_minversion} and <{np_maxversion}\"\n"
     ]
    },
    {
     "name": "stdout",
     "output_type": "stream",
     "text": [
      "/kaggle/input/bike-sharing-demand/sampleSubmission.csv\n",
      "/kaggle/input/bike-sharing-demand/train.csv\n",
      "/kaggle/input/bike-sharing-demand/test.csv\n"
     ]
    }
   ],
   "source": [
    "# This Python 3 environment comes with many helpful analytics libraries installed\n",
    "# It is defined by the kaggle/python Docker image: https://github.com/kaggle/docker-python\n",
    "# For example, here's several helpful packages to load\n",
    "\n",
    "import numpy as np # linear algebra\n",
    "import pandas as pd # data processing, CSV file I/O (e.g. pd.read_csv)\n",
    "from sklearn.tree import DecisionTreeRegressor\n",
    "from sklearn.ensemble import RandomForestRegressor\n",
    "from sklearn.metrics import mean_absolute_error\n",
    "from sklearn.model_selection import train_test_split\n",
    "\n",
    "# Input data files are available in the read-only \"../input/\" directory\n",
    "# For example, running this (by clicking run or pressing Shift+Enter) will list all files under the input directory\n",
    "\n",
    "import os\n",
    "for dirname, _, filenames in os.walk('/kaggle/input'):\n",
    "    for filename in filenames:\n",
    "        print(os.path.join(dirname, filename))\n",
    "\n",
    "# You can write up to 20GB to the current directory (/kaggle/working/) that gets preserved as output when you create a version using \"Save & Run All\" \n",
    "# You can also write temporary files to /kaggle/temp/, but they won't be saved outside of the current session\n",
    "\n"
   ]
  },
  {
   "cell_type": "code",
   "execution_count": 2,
   "id": "eec04843",
   "metadata": {
    "execution": {
     "iopub.execute_input": "2023-07-28T18:24:55.167145Z",
     "iopub.status.busy": "2023-07-28T18:24:55.164823Z",
     "iopub.status.idle": "2023-07-28T18:24:55.310487Z",
     "shell.execute_reply": "2023-07-28T18:24:55.308875Z"
    },
    "papermill": {
     "duration": 0.153572,
     "end_time": "2023-07-28T18:24:55.313360",
     "exception": false,
     "start_time": "2023-07-28T18:24:55.159788",
     "status": "completed"
    },
    "tags": []
   },
   "outputs": [],
   "source": [
    "# creating file paths\n",
    "bike_sharing_file_train = '../input/bike-sharing-demand/train.csv'\n",
    "bike_sharing_file_test = '../input/bike-sharing-demand/test.csv'\n",
    "bike_data_train = pd.read_csv(bike_sharing_file_train)\n",
    "bike_data_test = pd.read_csv(bike_sharing_file_test)\n",
    "\n",
    "# dropping null values\n",
    "bike_data_train = bike_data_train.dropna(axis = 0)\n",
    "bike_data_test = bike_data_test.dropna(axis = 0)\n",
    "\n",
    "# NEED TO CHANGE 'datetime' VALUES TO 'timeofday' \n",
    "bike_data_train['datetime'] = pd.to_datetime(bike_data_train['datetime'])\n",
    "bike_data_train['timeofday'] = bike_data_train['datetime'].dt.hour\n",
    "\n",
    "bike_data_test['datetime'] = pd.to_datetime(bike_data_test['datetime'])\n",
    "bike_data_test['timeofday'] = bike_data_test['datetime'].dt.hour\n",
    "\n",
    "# setting prediction target\n",
    "y = bike_data_train['count']\n",
    "\n",
    "# choosing features for ML model\n",
    "bike_data_features = ['timeofday', 'season', 'holiday', 'weather', 'temp', 'windspeed', 'humidity', 'workingday']\n",
    "\n",
    "X = bike_data_train[bike_data_features]\n",
    "test_X = bike_data_test[bike_data_features]"
   ]
  },
  {
   "cell_type": "code",
   "execution_count": 3,
   "id": "90996ecf",
   "metadata": {
    "execution": {
     "iopub.execute_input": "2023-07-28T18:24:55.322631Z",
     "iopub.status.busy": "2023-07-28T18:24:55.322147Z",
     "iopub.status.idle": "2023-07-28T18:24:55.386967Z",
     "shell.execute_reply": "2023-07-28T18:24:55.385488Z"
    },
    "papermill": {
     "duration": 0.072942,
     "end_time": "2023-07-28T18:24:55.389939",
     "exception": false,
     "start_time": "2023-07-28T18:24:55.316997",
     "status": "completed"
    },
    "tags": []
   },
   "outputs": [
    {
     "name": "stdout",
     "output_type": "stream",
     "text": [
      "In-Sample MAE Model 1: 0.5512278767836364\n"
     ]
    }
   ],
   "source": [
    "# testing first model in-sample\n",
    "# setting model\n",
    "bike_model_DT = DecisionTreeRegressor(random_state = 1)\n",
    "\n",
    "# fit model\n",
    "bike_model_DT.fit(X, y)\n",
    "\n",
    "predicted_count = bike_model_DT.predict(X)\n",
    "print(\"In-Sample MAE Model 1:\", mean_absolute_error(y, predicted_count))"
   ]
  },
  {
   "cell_type": "code",
   "execution_count": 4,
   "id": "e0fcedce",
   "metadata": {
    "execution": {
     "iopub.execute_input": "2023-07-28T18:24:55.399626Z",
     "iopub.status.busy": "2023-07-28T18:24:55.399176Z",
     "iopub.status.idle": "2023-07-28T18:24:55.451433Z",
     "shell.execute_reply": "2023-07-28T18:24:55.450242Z"
    },
    "papermill": {
     "duration": 0.06049,
     "end_time": "2023-07-28T18:24:55.454366",
     "exception": false,
     "start_time": "2023-07-28T18:24:55.393876",
     "status": "completed"
    },
    "tags": []
   },
   "outputs": [
    {
     "name": "stdout",
     "output_type": "stream",
     "text": [
      "Validition Data MAE Model 1: 60.92940240019594\n"
     ]
    }
   ],
   "source": [
    "# testing validity using MAE\n",
    "# splitting train data to test\n",
    "train_X, val_X, train_y, val_y = train_test_split(X, y, random_state = 0)\n",
    "\n",
    "# setting model\n",
    "bike_model_DT = DecisionTreeRegressor(random_state = 1)\n",
    "\n",
    "# fit model\n",
    "bike_model_DT.fit(train_X, train_y)\n",
    "\n",
    "# calculating MAE\n",
    "val_predictions = bike_model_DT.predict(val_X)\n",
    "print(\"Validition Data MAE Model 1:\", mean_absolute_error(val_y, val_predictions))"
   ]
  },
  {
   "cell_type": "code",
   "execution_count": 5,
   "id": "8b0e844d",
   "metadata": {
    "execution": {
     "iopub.execute_input": "2023-07-28T18:24:55.465020Z",
     "iopub.status.busy": "2023-07-28T18:24:55.464375Z",
     "iopub.status.idle": "2023-07-28T18:24:57.995161Z",
     "shell.execute_reply": "2023-07-28T18:24:57.993758Z"
    },
    "papermill": {
     "duration": 2.539796,
     "end_time": "2023-07-28T18:24:57.998359",
     "exception": false,
     "start_time": "2023-07-28T18:24:55.458563",
     "status": "completed"
    },
    "tags": []
   },
   "outputs": [
    {
     "name": "stdout",
     "output_type": "stream",
     "text": [
      "Validition Data MAE Model 2: 47.28516767257968\n"
     ]
    }
   ],
   "source": [
    "# trying new model\n",
    "bike_model_RF = RandomForestRegressor(random_state = 1)\n",
    "\n",
    "# fitting new model\n",
    "bike_model_RF.fit(train_X, train_y)\n",
    "\n",
    "# calculating MAE\n",
    "val_predictions_2 = bike_model_RF.predict(val_X)\n",
    "print(\"Validition Data MAE Model 2:\", mean_absolute_error(val_y, val_predictions_2))"
   ]
  },
  {
   "cell_type": "code",
   "execution_count": 6,
   "id": "b8867e4b",
   "metadata": {
    "execution": {
     "iopub.execute_input": "2023-07-28T18:24:58.009898Z",
     "iopub.status.busy": "2023-07-28T18:24:58.009314Z",
     "iopub.status.idle": "2023-07-28T18:25:01.317754Z",
     "shell.execute_reply": "2023-07-28T18:25:01.316156Z"
    },
    "papermill": {
     "duration": 3.318076,
     "end_time": "2023-07-28T18:25:01.320986",
     "exception": false,
     "start_time": "2023-07-28T18:24:58.002910",
     "status": "completed"
    },
    "tags": []
   },
   "outputs": [],
   "source": [
    "# preparing to submit model\n",
    "# fitting second model on full set of training data\n",
    "bike_model_final = RandomForestRegressor()\n",
    "bike_model_final.fit(X, y)\n",
    "\n",
    "# making predictions for submission\n",
    "test_predictions = bike_model_final.predict(test_X)\n",
    "\n",
    "# output to csv\n",
    "output = pd.DataFrame({'datetime': bike_data_test.datetime,\n",
    "                       'count': test_predictions})\n",
    "output.to_csv('submission_bike.csv', index=False)"
   ]
  }
 ],
 "metadata": {
  "kernelspec": {
   "display_name": "Python 3",
   "language": "python",
   "name": "python3"
  },
  "language_info": {
   "codemirror_mode": {
    "name": "ipython",
    "version": 3
   },
   "file_extension": ".py",
   "mimetype": "text/x-python",
   "name": "python",
   "nbconvert_exporter": "python",
   "pygments_lexer": "ipython3",
   "version": "3.10.12"
  },
  "papermill": {
   "default_parameters": {},
   "duration": 23.285127,
   "end_time": "2023-07-28T18:25:02.752253",
   "environment_variables": {},
   "exception": null,
   "input_path": "__notebook__.ipynb",
   "output_path": "__notebook__.ipynb",
   "parameters": {},
   "start_time": "2023-07-28T18:24:39.467126",
   "version": "2.4.0"
  }
 },
 "nbformat": 4,
 "nbformat_minor": 5
}
