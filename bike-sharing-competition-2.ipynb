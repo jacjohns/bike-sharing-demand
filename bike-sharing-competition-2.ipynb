{
 "cells": [
  {
   "cell_type": "code",
   "execution_count": 1,
   "id": "7ac62f79",
   "metadata": {
    "_cell_guid": "b1076dfc-b9ad-4769-8c92-a6c4dae69d19",
    "_uuid": "8f2839f25d086af736a60e9eeb907d3b93b6e0e5",
    "execution": {
     "iopub.execute_input": "2023-07-28T18:25:29.997869Z",
     "iopub.status.busy": "2023-07-28T18:25:29.996705Z",
     "iopub.status.idle": "2023-07-28T18:25:31.751276Z",
     "shell.execute_reply": "2023-07-28T18:25:31.749255Z"
    },
    "papermill": {
     "duration": 1.762982,
     "end_time": "2023-07-28T18:25:31.754444",
     "exception": false,
     "start_time": "2023-07-28T18:25:29.991462",
     "status": "completed"
    },
    "tags": []
   },
   "outputs": [
    {
     "name": "stderr",
     "output_type": "stream",
     "text": [
      "/opt/conda/lib/python3.10/site-packages/scipy/__init__.py:146: UserWarning: A NumPy version >=1.16.5 and <1.23.0 is required for this version of SciPy (detected version 1.23.5\n",
      "  warnings.warn(f\"A NumPy version >={np_minversion} and <{np_maxversion}\"\n"
     ]
    },
    {
     "name": "stdout",
     "output_type": "stream",
     "text": [
      "/kaggle/input/bike-sharing-demand/sampleSubmission.csv\n",
      "/kaggle/input/bike-sharing-demand/train.csv\n",
      "/kaggle/input/bike-sharing-demand/test.csv\n"
     ]
    }
   ],
   "source": [
    "# This Python 3 environment comes with many helpful analytics libraries installed\n",
    "# It is defined by the kaggle/python Docker image: https://github.com/kaggle/docker-python\n",
    "# For example, here's several helpful packages to load\n",
    "\n",
    "import numpy as np # linear algebra\n",
    "import pandas as pd # data processing, CSV file I/O (e.g. pd.read_csv)\n",
    "from sklearn.tree import DecisionTreeRegressor\n",
    "from sklearn.ensemble import RandomForestRegressor\n",
    "from sklearn.metrics import mean_absolute_error\n",
    "from sklearn.model_selection import train_test_split\n",
    "\n",
    "# Input data files are available in the read-only \"../input/\" directory\n",
    "# For example, running this (by clicking run or pressing Shift+Enter) will list all files under the input directory\n",
    "\n",
    "import os\n",
    "for dirname, _, filenames in os.walk('/kaggle/input'):\n",
    "    for filename in filenames:\n",
    "        print(os.path.join(dirname, filename))\n",
    "\n",
    "# You can write up to 20GB to the current directory (/kaggle/working/) that gets preserved as output when you create a version using \"Save & Run All\" \n",
    "# You can also write temporary files to /kaggle/temp/, but they won't be saved outside of the current session\n",
    "\n"
   ]
  },
  {
   "cell_type": "code",
   "execution_count": 2,
   "id": "ba546e7a",
   "metadata": {
    "execution": {
     "iopub.execute_input": "2023-07-28T18:25:31.763527Z",
     "iopub.status.busy": "2023-07-28T18:25:31.763100Z",
     "iopub.status.idle": "2023-07-28T18:25:31.919862Z",
     "shell.execute_reply": "2023-07-28T18:25:31.918697Z"
    },
    "papermill": {
     "duration": 0.164568,
     "end_time": "2023-07-28T18:25:31.922773",
     "exception": false,
     "start_time": "2023-07-28T18:25:31.758205",
     "status": "completed"
    },
    "tags": []
   },
   "outputs": [
    {
     "data": {
      "text/html": [
       "<div>\n",
       "<style scoped>\n",
       "    .dataframe tbody tr th:only-of-type {\n",
       "        vertical-align: middle;\n",
       "    }\n",
       "\n",
       "    .dataframe tbody tr th {\n",
       "        vertical-align: top;\n",
       "    }\n",
       "\n",
       "    .dataframe thead th {\n",
       "        text-align: right;\n",
       "    }\n",
       "</style>\n",
       "<table border=\"1\" class=\"dataframe\">\n",
       "  <thead>\n",
       "    <tr style=\"text-align: right;\">\n",
       "      <th></th>\n",
       "      <th>timeofday</th>\n",
       "      <th>season</th>\n",
       "      <th>holiday</th>\n",
       "      <th>weather</th>\n",
       "      <th>temp</th>\n",
       "      <th>windspeed</th>\n",
       "      <th>humidity</th>\n",
       "      <th>workingday</th>\n",
       "    </tr>\n",
       "  </thead>\n",
       "  <tbody>\n",
       "    <tr>\n",
       "      <th>count</th>\n",
       "      <td>10886.000000</td>\n",
       "      <td>10886.000000</td>\n",
       "      <td>10886.000000</td>\n",
       "      <td>10886.000000</td>\n",
       "      <td>10886.00000</td>\n",
       "      <td>10886.000000</td>\n",
       "      <td>10886.000000</td>\n",
       "      <td>10886.000000</td>\n",
       "    </tr>\n",
       "    <tr>\n",
       "      <th>mean</th>\n",
       "      <td>11.541613</td>\n",
       "      <td>2.506614</td>\n",
       "      <td>0.028569</td>\n",
       "      <td>1.418427</td>\n",
       "      <td>20.23086</td>\n",
       "      <td>12.799395</td>\n",
       "      <td>61.886460</td>\n",
       "      <td>0.680875</td>\n",
       "    </tr>\n",
       "    <tr>\n",
       "      <th>std</th>\n",
       "      <td>6.915838</td>\n",
       "      <td>1.116174</td>\n",
       "      <td>0.166599</td>\n",
       "      <td>0.633839</td>\n",
       "      <td>7.79159</td>\n",
       "      <td>8.164537</td>\n",
       "      <td>19.245033</td>\n",
       "      <td>0.466159</td>\n",
       "    </tr>\n",
       "    <tr>\n",
       "      <th>min</th>\n",
       "      <td>0.000000</td>\n",
       "      <td>1.000000</td>\n",
       "      <td>0.000000</td>\n",
       "      <td>1.000000</td>\n",
       "      <td>0.82000</td>\n",
       "      <td>0.000000</td>\n",
       "      <td>0.000000</td>\n",
       "      <td>0.000000</td>\n",
       "    </tr>\n",
       "    <tr>\n",
       "      <th>25%</th>\n",
       "      <td>6.000000</td>\n",
       "      <td>2.000000</td>\n",
       "      <td>0.000000</td>\n",
       "      <td>1.000000</td>\n",
       "      <td>13.94000</td>\n",
       "      <td>7.001500</td>\n",
       "      <td>47.000000</td>\n",
       "      <td>0.000000</td>\n",
       "    </tr>\n",
       "    <tr>\n",
       "      <th>50%</th>\n",
       "      <td>12.000000</td>\n",
       "      <td>3.000000</td>\n",
       "      <td>0.000000</td>\n",
       "      <td>1.000000</td>\n",
       "      <td>20.50000</td>\n",
       "      <td>12.998000</td>\n",
       "      <td>62.000000</td>\n",
       "      <td>1.000000</td>\n",
       "    </tr>\n",
       "    <tr>\n",
       "      <th>75%</th>\n",
       "      <td>18.000000</td>\n",
       "      <td>4.000000</td>\n",
       "      <td>0.000000</td>\n",
       "      <td>2.000000</td>\n",
       "      <td>26.24000</td>\n",
       "      <td>16.997900</td>\n",
       "      <td>77.000000</td>\n",
       "      <td>1.000000</td>\n",
       "    </tr>\n",
       "    <tr>\n",
       "      <th>max</th>\n",
       "      <td>23.000000</td>\n",
       "      <td>4.000000</td>\n",
       "      <td>1.000000</td>\n",
       "      <td>4.000000</td>\n",
       "      <td>41.00000</td>\n",
       "      <td>56.996900</td>\n",
       "      <td>100.000000</td>\n",
       "      <td>1.000000</td>\n",
       "    </tr>\n",
       "  </tbody>\n",
       "</table>\n",
       "</div>"
      ],
      "text/plain": [
       "          timeofday        season       holiday       weather         temp  \\\n",
       "count  10886.000000  10886.000000  10886.000000  10886.000000  10886.00000   \n",
       "mean      11.541613      2.506614      0.028569      1.418427     20.23086   \n",
       "std        6.915838      1.116174      0.166599      0.633839      7.79159   \n",
       "min        0.000000      1.000000      0.000000      1.000000      0.82000   \n",
       "25%        6.000000      2.000000      0.000000      1.000000     13.94000   \n",
       "50%       12.000000      3.000000      0.000000      1.000000     20.50000   \n",
       "75%       18.000000      4.000000      0.000000      2.000000     26.24000   \n",
       "max       23.000000      4.000000      1.000000      4.000000     41.00000   \n",
       "\n",
       "          windspeed      humidity    workingday  \n",
       "count  10886.000000  10886.000000  10886.000000  \n",
       "mean      12.799395     61.886460      0.680875  \n",
       "std        8.164537     19.245033      0.466159  \n",
       "min        0.000000      0.000000      0.000000  \n",
       "25%        7.001500     47.000000      0.000000  \n",
       "50%       12.998000     62.000000      1.000000  \n",
       "75%       16.997900     77.000000      1.000000  \n",
       "max       56.996900    100.000000      1.000000  "
      ]
     },
     "execution_count": 2,
     "metadata": {},
     "output_type": "execute_result"
    }
   ],
   "source": [
    "# creating file paths\n",
    "bike_sharing_file_train = '../input/bike-sharing-demand/train.csv'\n",
    "bike_sharing_file_test = '../input/bike-sharing-demand/test.csv'\n",
    "bike_data_train = pd.read_csv(bike_sharing_file_train)\n",
    "bike_data_test = pd.read_csv(bike_sharing_file_test)\n",
    "\n",
    "# dropping null values\n",
    "bike_data_train = bike_data_train.dropna(axis = 0)\n",
    "bike_data_test = bike_data_test.dropna(axis = 0)\n",
    "\n",
    "# NEED TO CHANGE 'datetime' VALUES TO 'timeofday' \n",
    "bike_data_train['datetime'] = pd.to_datetime(bike_data_train['datetime'])\n",
    "bike_data_train['timeofday'] = bike_data_train['datetime'].dt.hour\n",
    "\n",
    "bike_data_test['datetime'] = pd.to_datetime(bike_data_test['datetime'])\n",
    "bike_data_test['timeofday'] = bike_data_test['datetime'].dt.hour\n",
    "\n",
    "# setting prediction target\n",
    "y = bike_data_train['count']\n",
    "\n",
    "# choosing features for ML model\n",
    "bike_data_features = ['timeofday', 'season', 'holiday', 'weather', 'temp', 'windspeed', 'humidity', 'workingday']\n",
    "\n",
    "X = bike_data_train[bike_data_features]\n",
    "test_X = bike_data_test[bike_data_features]\n",
    "\n",
    "# splitting train data to test\n",
    "train_X, val_X, train_y, val_y = train_test_split(X, y, random_state = 0)\n",
    "\n",
    "X.describe()"
   ]
  },
  {
   "cell_type": "code",
   "execution_count": 3,
   "id": "8cdbb19b",
   "metadata": {
    "execution": {
     "iopub.execute_input": "2023-07-28T18:25:31.932009Z",
     "iopub.status.busy": "2023-07-28T18:25:31.931623Z",
     "iopub.status.idle": "2023-07-28T18:25:31.941318Z",
     "shell.execute_reply": "2023-07-28T18:25:31.939639Z"
    },
    "papermill": {
     "duration": 0.017402,
     "end_time": "2023-07-28T18:25:31.943950",
     "exception": false,
     "start_time": "2023-07-28T18:25:31.926548",
     "status": "completed"
    },
    "tags": []
   },
   "outputs": [
    {
     "name": "stdout",
     "output_type": "stream",
     "text": [
      "Series([], dtype: int64)\n"
     ]
    }
   ],
   "source": [
    "# preproccessing data futher to improve MAE\n",
    "\n",
    "# testing to see if there are any columns with missing values\n",
    "\n",
    "missing_val = (X.isnull().sum())\n",
    "print(missing_val[missing_val > 0])\n",
    "\n",
    "# no missing values so no need to preprocess data?"
   ]
  },
  {
   "cell_type": "code",
   "execution_count": 4,
   "id": "0fc65427",
   "metadata": {
    "execution": {
     "iopub.execute_input": "2023-07-28T18:25:31.953838Z",
     "iopub.status.busy": "2023-07-28T18:25:31.952830Z",
     "iopub.status.idle": "2023-07-28T18:25:32.010388Z",
     "shell.execute_reply": "2023-07-28T18:25:32.009098Z"
    },
    "papermill": {
     "duration": 0.065252,
     "end_time": "2023-07-28T18:25:32.013023",
     "exception": false,
     "start_time": "2023-07-28T18:25:31.947771",
     "status": "completed"
    },
    "tags": []
   },
   "outputs": [
    {
     "name": "stdout",
     "output_type": "stream",
     "text": [
      "In-Sample MAE Model 1: 0.5512278767836364\n"
     ]
    }
   ],
   "source": [
    "# testing first model in-sample\n",
    "# setting model\n",
    "bike_model_DT = DecisionTreeRegressor(random_state = 1)\n",
    "\n",
    "# fit model\n",
    "bike_model_DT.fit(X, y)\n",
    "\n",
    "predicted_count = bike_model_DT.predict(X)\n",
    "print(\"In-Sample MAE Model 1:\", mean_absolute_error(y, predicted_count))"
   ]
  },
  {
   "cell_type": "code",
   "execution_count": 5,
   "id": "6ee20a03",
   "metadata": {
    "execution": {
     "iopub.execute_input": "2023-07-28T18:25:32.022629Z",
     "iopub.status.busy": "2023-07-28T18:25:32.022218Z",
     "iopub.status.idle": "2023-07-28T18:25:32.066871Z",
     "shell.execute_reply": "2023-07-28T18:25:32.065869Z"
    },
    "papermill": {
     "duration": 0.052336,
     "end_time": "2023-07-28T18:25:32.069227",
     "exception": false,
     "start_time": "2023-07-28T18:25:32.016891",
     "status": "completed"
    },
    "tags": []
   },
   "outputs": [
    {
     "name": "stdout",
     "output_type": "stream",
     "text": [
      "Validition Data MAE Model 1: 60.92940240019594\n"
     ]
    }
   ],
   "source": [
    "# testing validity using MAE\n",
    "\n",
    "# setting model\n",
    "bike_model_DT = DecisionTreeRegressor(random_state = 1)\n",
    "\n",
    "# fit model\n",
    "bike_model_DT.fit(train_X, train_y)\n",
    "\n",
    "# calculating MAE\n",
    "val_predictions = bike_model_DT.predict(val_X)\n",
    "print(\"Validition Data MAE Model 1:\", mean_absolute_error(val_y, val_predictions))"
   ]
  },
  {
   "cell_type": "code",
   "execution_count": 6,
   "id": "af4311a7",
   "metadata": {
    "execution": {
     "iopub.execute_input": "2023-07-28T18:25:32.079482Z",
     "iopub.status.busy": "2023-07-28T18:25:32.078555Z",
     "iopub.status.idle": "2023-07-28T18:25:33.119178Z",
     "shell.execute_reply": "2023-07-28T18:25:33.117903Z"
    },
    "papermill": {
     "duration": 1.048471,
     "end_time": "2023-07-28T18:25:33.121698",
     "exception": false,
     "start_time": "2023-07-28T18:25:32.073227",
     "status": "completed"
    },
    "tags": []
   },
   "outputs": [
    {
     "name": "stdout",
     "output_type": "stream",
     "text": [
      "Validition Data MAE Model 2: 47.334662331300834\n"
     ]
    }
   ],
   "source": [
    "# trying new model\n",
    "bike_model_RF = RandomForestRegressor(random_state = 1, n_estimators = 44)\n",
    "\n",
    "# fitting new model\n",
    "bike_model_RF.fit(train_X, train_y)\n",
    "\n",
    "# calculating MAE\n",
    "val_predictions_2 = bike_model_RF.predict(val_X)\n",
    "print(\"Validition Data MAE Model 2:\", mean_absolute_error(val_y, val_predictions_2))"
   ]
  },
  {
   "cell_type": "code",
   "execution_count": 7,
   "id": "07f99aeb",
   "metadata": {
    "execution": {
     "iopub.execute_input": "2023-07-28T18:25:33.131027Z",
     "iopub.status.busy": "2023-07-28T18:25:33.130628Z",
     "iopub.status.idle": "2023-07-28T18:25:33.756275Z",
     "shell.execute_reply": "2023-07-28T18:25:33.755118Z"
    },
    "papermill": {
     "duration": 0.633188,
     "end_time": "2023-07-28T18:25:33.758705",
     "exception": false,
     "start_time": "2023-07-28T18:25:33.125517",
     "status": "completed"
    },
    "tags": []
   },
   "outputs": [
    {
     "name": "stdout",
     "output_type": "stream",
     "text": [
      "Validition Data MAE Model 3: 47.70964423466602\n"
     ]
    }
   ],
   "source": [
    "# attempting a third model, XGBRegressor\n",
    "# importing model\n",
    "from xgboost import XGBRegressor\n",
    "\n",
    "bike_model_XGB = XGBRegressor()\n",
    "\n",
    "# fitting model\n",
    "bike_model_XGB.fit(train_X, train_y)\n",
    "\n",
    "# calculating MAE\n",
    "val_predictions_3 = bike_model_XGB.predict(val_X)\n",
    "print(\"Validition Data MAE Model 3:\", mean_absolute_error(val_y, val_predictions_3))"
   ]
  },
  {
   "cell_type": "code",
   "execution_count": 8,
   "id": "0e321ce0",
   "metadata": {
    "execution": {
     "iopub.execute_input": "2023-07-28T18:25:33.768992Z",
     "iopub.status.busy": "2023-07-28T18:25:33.768061Z",
     "iopub.status.idle": "2023-07-28T18:25:35.500528Z",
     "shell.execute_reply": "2023-07-28T18:25:35.499462Z"
    },
    "papermill": {
     "duration": 1.740465,
     "end_time": "2023-07-28T18:25:35.503194",
     "exception": false,
     "start_time": "2023-07-28T18:25:33.762729",
     "status": "completed"
    },
    "tags": []
   },
   "outputs": [
    {
     "name": "stdout",
     "output_type": "stream",
     "text": [
      "Validition Data MAE Model 4: 46.90239234985804\n"
     ]
    }
   ],
   "source": [
    "# optimizing XGBRegressor\n",
    "# still learning how to write a function to optimize for me, for now i have been guess & check-ing\n",
    "bike_model_XGB_optimized = XGBRegressor(n_estimators = 10000, early_stopping_rounds = 10, learning_rate = 0.04)\n",
    "\n",
    "# fit model\n",
    "bike_model_XGB_optimized.fit(train_X, train_y, eval_set=[(val_X, val_y)], verbose=False)\n",
    "\n",
    "# calculating MAE\n",
    "val_predictions_4 = bike_model_XGB_optimized.predict(val_X)\n",
    "print(\"Validition Data MAE Model 4:\", mean_absolute_error(val_y, val_predictions_4))"
   ]
  },
  {
   "cell_type": "code",
   "execution_count": 9,
   "id": "66e58254",
   "metadata": {
    "execution": {
     "iopub.execute_input": "2023-07-28T18:25:35.515554Z",
     "iopub.status.busy": "2023-07-28T18:25:35.514912Z",
     "iopub.status.idle": "2023-07-28T18:26:29.865357Z",
     "shell.execute_reply": "2023-07-28T18:26:29.864212Z"
    },
    "papermill": {
     "duration": 54.360778,
     "end_time": "2023-07-28T18:26:29.868217",
     "exception": false,
     "start_time": "2023-07-28T18:25:35.507439",
     "status": "completed"
    },
    "tags": []
   },
   "outputs": [],
   "source": [
    "# preparing to submit model\n",
    "# fitting optimized XGBRegressor model on full set of training\n",
    "bike_model_final = bike_model_XGB_optimized\n",
    "bike_model_final.fit(X, y, eval_set=[(val_X, val_y)], verbose=False)\n",
    "\n",
    "# making predictions for submission\n",
    "test_predictions = bike_model_final.predict(test_X)\n",
    "\n",
    "# output to csv\n",
    "output = pd.DataFrame({'datetime': bike_data_test.datetime,\n",
    "                       'count': test_predictions})\n",
    "output.to_csv('submission_bike.csv', index=False)"
   ]
  }
 ],
 "metadata": {
  "kernelspec": {
   "display_name": "Python 3",
   "language": "python",
   "name": "python3"
  },
  "language_info": {
   "codemirror_mode": {
    "name": "ipython",
    "version": 3
   },
   "file_extension": ".py",
   "mimetype": "text/x-python",
   "name": "python",
   "nbconvert_exporter": "python",
   "pygments_lexer": "ipython3",
   "version": "3.10.12"
  },
  "papermill": {
   "default_parameters": {},
   "duration": 72.143187,
   "end_time": "2023-07-28T18:26:30.997383",
   "environment_variables": {},
   "exception": null,
   "input_path": "__notebook__.ipynb",
   "output_path": "__notebook__.ipynb",
   "parameters": {},
   "start_time": "2023-07-28T18:25:18.854196",
   "version": "2.4.0"
  }
 },
 "nbformat": 4,
 "nbformat_minor": 5
}
